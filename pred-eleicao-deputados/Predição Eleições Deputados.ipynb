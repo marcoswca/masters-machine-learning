{
 "cells": [
  {
   "cell_type": "code",
   "execution_count": 1,
   "metadata": {},
   "outputs": [],
   "source": [
    "import pandas as pd\n",
    "import numpy as np\n",
    "import seaborn as sns\n",
    "import matplotlib.pyplot as plt\n",
    "import itertools\n",
    "\n",
    "from sklearn import metrics\n",
    "from sklearn.model_selection import cross_val_score\n",
    "from sklearn.model_selection import cross_val_predict\n",
    "from sklearn.metrics import confusion_matrix\n",
    "from sklearn.model_selection import train_test_split\n",
    "from sklearn.model_selection import StratifiedKFold\n",
    "from scipy.stats import skew\n",
    "\n",
    "import warnings\n",
    "warnings.filterwarnings('ignore')"
   ]
  },
  {
   "cell_type": "code",
   "execution_count": 2,
   "metadata": {},
   "outputs": [],
   "source": [
    "train_test = pd.read_csv('train.csv', delimiter=',')\n",
    "train_test_predict = pd.DataFrame(train_test['situacao'])\n",
    "\n",
    "predict = pd.read_csv('test.csv', delimiter=',')\n",
    "predict_code = predict['sequencial_candidato']\n",
    "\n",
    "train_test = train_test.replace(['nao_eleito', 'eleito'], [0, 1])\n"
   ]
  },
  {
   "cell_type": "markdown",
   "metadata": {},
   "source": [
    "# Há desbalanceamento das classes (isto é, uma classe tem muito mais instâncias que outra)? Em que proporção? Quais efeitos colaterais o desbalanceamento de classes pode causar no classificador? Como você poderia tratar isso? (1 pt.)"
   ]
  },
  {
   "cell_type": "code",
   "execution_count": 3,
   "metadata": {},
   "outputs": [
    {
     "name": "stdout",
     "output_type": "stream",
     "text": [
      "('Class 0:', 6596)\n",
      "('Class 1:', 1026)\n",
      "('Proportion:', 6.0, ': 1')\n"
     ]
    },
    {
     "data": {
      "image/png": "[encoded data removed]",
      "text/plain": [
       "<Figure size 432x288 with 1 Axes>"
      ]
     },
     "metadata": {
      "needs_background": "light"
     },
     "output_type": "display_data"
    }
   ],
   "source": [
    "target_count = train_test.situacao.value_counts()\n",
    "print('Class 0:', target_count[0])\n",
    "print('Class 1:', target_count[1])\n",
    "print('Proportion:', round(target_count[0] / target_count[1], 2), ': 1')\n",
    "\n",
    "target_count.plot(kind='bar', title='Count (target)');"
   ]
  },
  {
   "cell_type": "markdown",
   "metadata": {},
   "source": [
    "Como podemos ver no gráfico acima, claramente há um desbalanceamento. Esse é um problema que causa redução da acurácia dos modelos, uma vez que o classificador vai tender para a classe majoritária (a não eleição). \n",
    "\n",
    "Para “resolver” o problema do desbalanceamento existem algumas formas, são elas: Undersampling, que consiste em remover algumas instâncias do dataset cuja classe é a majoritária. Oversampling: Pode ser dividido em dois tipos, Random Oversampling e Informative Oversampling, basicamente o que ocorre é a criação instâncias da classe minoritária. \n",
    "\n",
    "Synthetic Data Generation: Em palavras simples, em vez de replicar e adicionar as observações da classe minoritária, supera desequilíbrios gerando dados artificiais. É também um tipo de técnica de sobreamostragem.\n",
    "\n",
    "Nesse exemplo irei \"criar\" dados da classe minoritária."
   ]
  },
  {
   "cell_type": "code",
   "execution_count": 4,
   "metadata": {},
   "outputs": [
    {
     "data": {
      "text/plain": [
       "(7622, 24)"
      ]
     },
     "execution_count": 4,
     "metadata": {},
     "output_type": "execute_result"
    }
   ],
   "source": [
    "train_test.shape"
   ]
  },
  {
   "cell_type": "code",
   "execution_count": 5,
   "metadata": {},
   "outputs": [],
   "source": [
    "# Class count\n",
    "count_class_0, count_class_1 = train_test.situacao.value_counts()\n",
    "\n",
    "# Divide by class\n",
    "df_class_0 = train_test[train_test['situacao'] == 0]\n",
    "df_class_1 = train_test[train_test['situacao'] == 1]"
   ]
  },
  {
   "cell_type": "code",
   "execution_count": 6,
   "metadata": {},
   "outputs": [
    {
     "name": "stdout",
     "output_type": "stream",
     "text": [
      "Random over-sampling:\n",
      "1    6596\n",
      "0    6596\n",
      "Name: situacao, dtype: int64\n"
     ]
    },
    {
     "data": {
      "image/png": "[encoded data removed]",
      "text/plain": [
       "<Figure size 432x288 with 1 Axes>"
      ]
     },
     "metadata": {
      "needs_background": "light"
     },
     "output_type": "display_data"
    }
   ],
   "source": [
    "df_class_1_over = df_class_1.sample(count_class_0, replace=True)\n",
    "df_test_over = pd.concat([df_class_0, df_class_1_over], axis=0)\n",
    "\n",
    "print('Random over-sampling:')\n",
    "print(df_test_over.situacao.value_counts())\n",
    "\n",
    "df_test_over.situacao.value_counts().plot(kind='bar', title='Count (target)');"
   ]
  },
  {
   "cell_type": "markdown",
   "metadata": {},
   "source": [
    "Como podemos ver no gráfico acima, agora os dados estão balanceados."
   ]
  },
  {
   "cell_type": "code",
   "execution_count": 7,
   "metadata": {},
   "outputs": [],
   "source": [
    "# Substituindo os dados pelos dados balanceados\n",
    "train_test = df_test_over\n",
    "train_test_predict = pd.DataFrame(train_test['situacao'])"
   ]
  },
  {
   "cell_type": "code",
   "execution_count": 8,
   "metadata": {},
   "outputs": [
    {
     "data": {
      "text/plain": [
       "(13192, 24)"
      ]
     },
     "execution_count": 8,
     "metadata": {},
     "output_type": "execute_result"
    }
   ],
   "source": [
    "train_test.shape"
   ]
  },
  {
   "cell_type": "code",
   "execution_count": 9,
   "metadata": {},
   "outputs": [
    {
     "data": {
      "text/plain": [
       "(4592, 23)"
      ]
     },
     "execution_count": 9,
     "metadata": {},
     "output_type": "execute_result"
    }
   ],
   "source": [
    "predict.shape"
   ]
  },
  {
   "cell_type": "code",
   "execution_count": 10,
   "metadata": {},
   "outputs": [],
   "source": [
    "# Removendo variáveis 'inúteis'\n",
    "train_test = train_test.drop(['partido', 'ocupacao' , 'sequencial_candidato', 'nome', 'grau', 'cargo', 'estado_civil', 'situacao'], axis=1)"
   ]
  },
  {
   "cell_type": "code",
   "execution_count": 11,
   "metadata": {},
   "outputs": [],
   "source": [
    "# Removendo variáveis 'inúteis'\n",
    "predict = predict.drop(['partido', 'ocupacao' , 'sequencial_candidato', 'nome', 'grau', 'cargo', 'estado_civil'], axis=1)"
   ]
  },
  {
   "cell_type": "code",
   "execution_count": 12,
   "metadata": {},
   "outputs": [
    {
     "data": {
      "text/plain": [
       "(13192, 16)"
      ]
     },
     "execution_count": 12,
     "metadata": {},
     "output_type": "execute_result"
    }
   ],
   "source": [
    "train_test.shape"
   ]
  },
  {
   "cell_type": "code",
   "execution_count": 13,
   "metadata": {},
   "outputs": [
    {
     "data": {
      "text/plain": [
       "(4592, 16)"
      ]
     },
     "execution_count": 13,
     "metadata": {},
     "output_type": "execute_result"
    }
   ],
   "source": [
    "predict.shape"
   ]
  },
  {
   "cell_type": "code",
   "execution_count": 14,
   "metadata": {},
   "outputs": [
    {
     "data": {
      "text/html": [
       "<div>\n",
       "<style scoped>\n",
       "    .dataframe tbody tr th:only-of-type {\n",
       "        vertical-align: middle;\n",
       "    }\n",
       "\n",
       "    .dataframe tbody tr th {\n",
       "        vertical-align: top;\n",
       "    }\n",
       "\n",
       "    .dataframe thead th {\n",
       "        text-align: right;\n",
       "    }\n",
       "</style>\n",
       "<table border=\"1\" class=\"dataframe\">\n",
       "  <thead>\n",
       "    <tr style=\"text-align: right;\">\n",
       "      <th></th>\n",
       "      <th>ano</th>\n",
       "      <th>uf</th>\n",
       "      <th>quantidade_doacoes</th>\n",
       "      <th>quantidade_doadores</th>\n",
       "      <th>total_receita</th>\n",
       "      <th>media_receita</th>\n",
       "      <th>recursos_de_outros_candidatos.comites</th>\n",
       "      <th>recursos_de_pessoas_fisicas</th>\n",
       "      <th>recursos_de_pessoas_juridicas</th>\n",
       "      <th>recursos_proprios</th>\n",
       "      <th>recursos_de_partido_politico</th>\n",
       "      <th>quantidade_despesas</th>\n",
       "      <th>quantidade_fornecedores</th>\n",
       "      <th>total_despesa</th>\n",
       "      <th>media_despesa</th>\n",
       "      <th>sexo</th>\n",
       "    </tr>\n",
       "  </thead>\n",
       "  <tbody>\n",
       "    <tr>\n",
       "      <th>0</th>\n",
       "      <td>2006</td>\n",
       "      <td>AP</td>\n",
       "      <td>6</td>\n",
       "      <td>6</td>\n",
       "      <td>16600.00</td>\n",
       "      <td>2766.67</td>\n",
       "      <td>0.0</td>\n",
       "      <td>9000.00</td>\n",
       "      <td>6300.00</td>\n",
       "      <td>1300.00</td>\n",
       "      <td>0.0</td>\n",
       "      <td>14</td>\n",
       "      <td>14</td>\n",
       "      <td>16583.60</td>\n",
       "      <td>1184.54</td>\n",
       "      <td>MASCULINO</td>\n",
       "    </tr>\n",
       "    <tr>\n",
       "      <th>1</th>\n",
       "      <td>2006</td>\n",
       "      <td>RO</td>\n",
       "      <td>13</td>\n",
       "      <td>13</td>\n",
       "      <td>22826.00</td>\n",
       "      <td>1755.85</td>\n",
       "      <td>6625.0</td>\n",
       "      <td>15000.00</td>\n",
       "      <td>1000.00</td>\n",
       "      <td>201.00</td>\n",
       "      <td>0.0</td>\n",
       "      <td>24</td>\n",
       "      <td>23</td>\n",
       "      <td>20325.99</td>\n",
       "      <td>846.92</td>\n",
       "      <td>FEMININO</td>\n",
       "    </tr>\n",
       "    <tr>\n",
       "      <th>3</th>\n",
       "      <td>2006</td>\n",
       "      <td>MS</td>\n",
       "      <td>6</td>\n",
       "      <td>6</td>\n",
       "      <td>3001.12</td>\n",
       "      <td>500.19</td>\n",
       "      <td>0.0</td>\n",
       "      <td>1150.00</td>\n",
       "      <td>1101.12</td>\n",
       "      <td>750.00</td>\n",
       "      <td>0.0</td>\n",
       "      <td>8</td>\n",
       "      <td>8</td>\n",
       "      <td>3001.12</td>\n",
       "      <td>375.14</td>\n",
       "      <td>MASCULINO</td>\n",
       "    </tr>\n",
       "    <tr>\n",
       "      <th>5</th>\n",
       "      <td>2006</td>\n",
       "      <td>AP</td>\n",
       "      <td>8</td>\n",
       "      <td>8</td>\n",
       "      <td>42668.26</td>\n",
       "      <td>5333.53</td>\n",
       "      <td>2250.0</td>\n",
       "      <td>1418.26</td>\n",
       "      <td>0.00</td>\n",
       "      <td>39000.00</td>\n",
       "      <td>0.0</td>\n",
       "      <td>38</td>\n",
       "      <td>37</td>\n",
       "      <td>42668.25</td>\n",
       "      <td>1122.85</td>\n",
       "      <td>MASCULINO</td>\n",
       "    </tr>\n",
       "    <tr>\n",
       "      <th>6</th>\n",
       "      <td>2006</td>\n",
       "      <td>PI</td>\n",
       "      <td>6</td>\n",
       "      <td>6</td>\n",
       "      <td>1771.21</td>\n",
       "      <td>295.20</td>\n",
       "      <td>0.0</td>\n",
       "      <td>0.00</td>\n",
       "      <td>0.00</td>\n",
       "      <td>1771.21</td>\n",
       "      <td>0.0</td>\n",
       "      <td>9</td>\n",
       "      <td>9</td>\n",
       "      <td>1771.21</td>\n",
       "      <td>196.80</td>\n",
       "      <td>MASCULINO</td>\n",
       "    </tr>\n",
       "  </tbody>\n",
       "</table>\n",
       "</div>"
      ],
      "text/plain": [
       "    ano  uf  quantidade_doacoes  quantidade_doadores  total_receita  \\\n",
       "0  2006  AP                   6                    6       16600.00   \n",
       "1  2006  RO                  13                   13       22826.00   \n",
       "3  2006  MS                   6                    6        3001.12   \n",
       "5  2006  AP                   8                    8       42668.26   \n",
       "6  2006  PI                   6                    6        1771.21   \n",
       "\n",
       "   media_receita  recursos_de_outros_candidatos.comites  \\\n",
       "0        2766.67                                    0.0   \n",
       "1        1755.85                                 6625.0   \n",
       "3         500.19                                    0.0   \n",
       "5        5333.53                                 2250.0   \n",
       "6         295.20                                    0.0   \n",
       "\n",
       "   recursos_de_pessoas_fisicas  recursos_de_pessoas_juridicas  \\\n",
       "0                      9000.00                        6300.00   \n",
       "1                     15000.00                        1000.00   \n",
       "3                      1150.00                        1101.12   \n",
       "5                      1418.26                           0.00   \n",
       "6                         0.00                           0.00   \n",
       "\n",
       "   recursos_proprios  recursos_de_partido_politico  quantidade_despesas  \\\n",
       "0            1300.00                           0.0                   14   \n",
       "1             201.00                           0.0                   24   \n",
       "3             750.00                           0.0                    8   \n",
       "5           39000.00                           0.0                   38   \n",
       "6            1771.21                           0.0                    9   \n",
       "\n",
       "   quantidade_fornecedores  total_despesa  media_despesa       sexo  \n",
       "0                       14       16583.60        1184.54  MASCULINO  \n",
       "1                       23       20325.99         846.92   FEMININO  \n",
       "3                        8        3001.12         375.14  MASCULINO  \n",
       "5                       37       42668.25        1122.85  MASCULINO  \n",
       "6                        9        1771.21         196.80  MASCULINO  "
      ]
     },
     "execution_count": 14,
     "metadata": {},
     "output_type": "execute_result"
    }
   ],
   "source": [
    "train_test.head()"
   ]
  },
  {
   "cell_type": "code",
   "execution_count": 15,
   "metadata": {},
   "outputs": [
    {
     "data": {
      "text/html": [
       "<div>\n",
       "<style scoped>\n",
       "    .dataframe tbody tr th:only-of-type {\n",
       "        vertical-align: middle;\n",
       "    }\n",
       "\n",
       "    .dataframe tbody tr th {\n",
       "        vertical-align: top;\n",
       "    }\n",
       "\n",
       "    .dataframe thead th {\n",
       "        text-align: right;\n",
       "    }\n",
       "</style>\n",
       "<table border=\"1\" class=\"dataframe\">\n",
       "  <thead>\n",
       "    <tr style=\"text-align: right;\">\n",
       "      <th></th>\n",
       "      <th>ano</th>\n",
       "      <th>uf</th>\n",
       "      <th>quantidade_doacoes</th>\n",
       "      <th>quantidade_doadores</th>\n",
       "      <th>total_receita</th>\n",
       "      <th>media_receita</th>\n",
       "      <th>recursos_de_outros_candidatos.comites</th>\n",
       "      <th>recursos_de_pessoas_fisicas</th>\n",
       "      <th>recursos_de_pessoas_juridicas</th>\n",
       "      <th>recursos_proprios</th>\n",
       "      <th>recursos_de_partido_politico</th>\n",
       "      <th>quantidade_despesas</th>\n",
       "      <th>quantidade_fornecedores</th>\n",
       "      <th>total_despesa</th>\n",
       "      <th>media_despesa</th>\n",
       "      <th>sexo</th>\n",
       "    </tr>\n",
       "  </thead>\n",
       "  <tbody>\n",
       "    <tr>\n",
       "      <th>0</th>\n",
       "      <td>2014</td>\n",
       "      <td>AC</td>\n",
       "      <td>3</td>\n",
       "      <td>3</td>\n",
       "      <td>1580.00</td>\n",
       "      <td>526.67</td>\n",
       "      <td>0.00</td>\n",
       "      <td>1500.00</td>\n",
       "      <td>0.00</td>\n",
       "      <td>0.00</td>\n",
       "      <td>80.0</td>\n",
       "      <td>3</td>\n",
       "      <td>3</td>\n",
       "      <td>1580.00</td>\n",
       "      <td>526.67</td>\n",
       "      <td>MASCULINO</td>\n",
       "    </tr>\n",
       "    <tr>\n",
       "      <th>1</th>\n",
       "      <td>2014</td>\n",
       "      <td>AC</td>\n",
       "      <td>5</td>\n",
       "      <td>5</td>\n",
       "      <td>3180.00</td>\n",
       "      <td>636.00</td>\n",
       "      <td>0.00</td>\n",
       "      <td>3100.00</td>\n",
       "      <td>0.00</td>\n",
       "      <td>0.00</td>\n",
       "      <td>80.0</td>\n",
       "      <td>6</td>\n",
       "      <td>5</td>\n",
       "      <td>3130.02</td>\n",
       "      <td>521.67</td>\n",
       "      <td>MASCULINO</td>\n",
       "    </tr>\n",
       "    <tr>\n",
       "      <th>2</th>\n",
       "      <td>2014</td>\n",
       "      <td>AC</td>\n",
       "      <td>40</td>\n",
       "      <td>38</td>\n",
       "      <td>336793.13</td>\n",
       "      <td>8419.83</td>\n",
       "      <td>1923.07</td>\n",
       "      <td>65700.00</td>\n",
       "      <td>154170.06</td>\n",
       "      <td>115000.00</td>\n",
       "      <td>0.0</td>\n",
       "      <td>145</td>\n",
       "      <td>139</td>\n",
       "      <td>326869.78</td>\n",
       "      <td>2254.27</td>\n",
       "      <td>MASCULINO</td>\n",
       "    </tr>\n",
       "    <tr>\n",
       "      <th>3</th>\n",
       "      <td>2014</td>\n",
       "      <td>AC</td>\n",
       "      <td>29</td>\n",
       "      <td>29</td>\n",
       "      <td>156719.32</td>\n",
       "      <td>5404.11</td>\n",
       "      <td>39122.32</td>\n",
       "      <td>68783.84</td>\n",
       "      <td>17000.00</td>\n",
       "      <td>6813.16</td>\n",
       "      <td>25000.0</td>\n",
       "      <td>136</td>\n",
       "      <td>121</td>\n",
       "      <td>241016.07</td>\n",
       "      <td>1772.18</td>\n",
       "      <td>MASCULINO</td>\n",
       "    </tr>\n",
       "    <tr>\n",
       "      <th>4</th>\n",
       "      <td>2014</td>\n",
       "      <td>AC</td>\n",
       "      <td>160</td>\n",
       "      <td>146</td>\n",
       "      <td>737073.00</td>\n",
       "      <td>4606.71</td>\n",
       "      <td>10000.00</td>\n",
       "      <td>347073.00</td>\n",
       "      <td>277000.00</td>\n",
       "      <td>78000.00</td>\n",
       "      <td>25000.0</td>\n",
       "      <td>518</td>\n",
       "      <td>354</td>\n",
       "      <td>567401.15</td>\n",
       "      <td>1095.37</td>\n",
       "      <td>MASCULINO</td>\n",
       "    </tr>\n",
       "  </tbody>\n",
       "</table>\n",
       "</div>"
      ],
      "text/plain": [
       "    ano  uf  quantidade_doacoes  quantidade_doadores  total_receita  \\\n",
       "0  2014  AC                   3                    3        1580.00   \n",
       "1  2014  AC                   5                    5        3180.00   \n",
       "2  2014  AC                  40                   38      336793.13   \n",
       "3  2014  AC                  29                   29      156719.32   \n",
       "4  2014  AC                 160                  146      737073.00   \n",
       "\n",
       "   media_receita  recursos_de_outros_candidatos.comites  \\\n",
       "0         526.67                                   0.00   \n",
       "1         636.00                                   0.00   \n",
       "2        8419.83                                1923.07   \n",
       "3        5404.11                               39122.32   \n",
       "4        4606.71                               10000.00   \n",
       "\n",
       "   recursos_de_pessoas_fisicas  recursos_de_pessoas_juridicas  \\\n",
       "0                      1500.00                           0.00   \n",
       "1                      3100.00                           0.00   \n",
       "2                     65700.00                      154170.06   \n",
       "3                     68783.84                       17000.00   \n",
       "4                    347073.00                      277000.00   \n",
       "\n",
       "   recursos_proprios  recursos_de_partido_politico  quantidade_despesas  \\\n",
       "0               0.00                          80.0                    3   \n",
       "1               0.00                          80.0                    6   \n",
       "2          115000.00                           0.0                  145   \n",
       "3            6813.16                       25000.0                  136   \n",
       "4           78000.00                       25000.0                  518   \n",
       "\n",
       "   quantidade_fornecedores  total_despesa  media_despesa       sexo  \n",
       "0                        3        1580.00         526.67  MASCULINO  \n",
       "1                        5        3130.02         521.67  MASCULINO  \n",
       "2                      139      326869.78        2254.27  MASCULINO  \n",
       "3                      121      241016.07        1772.18  MASCULINO  \n",
       "4                      354      567401.15        1095.37  MASCULINO  "
      ]
     },
     "execution_count": 15,
     "metadata": {},
     "output_type": "execute_result"
    }
   ],
   "source": [
    "predict.head()"
   ]
  },
  {
   "cell_type": "code",
   "execution_count": 16,
   "metadata": {},
   "outputs": [],
   "source": [
    "# Normalizando os dados\n",
    "\n",
    "numeric_feats = train_test.dtypes[train_test.dtypes != \"object\"].index\n",
    "\n",
    "skewed_feats = train_test[numeric_feats].apply(lambda x: skew(x.dropna())) #compute skewness\n",
    "skewed_feats = skewed_feats[skewed_feats > 0.75]\n",
    "skewed_feats = skewed_feats.index\n",
    "\n",
    "train_test[skewed_feats] = np.log1p(train_test[skewed_feats])\n"
   ]
  },
  {
   "cell_type": "code",
   "execution_count": 17,
   "metadata": {},
   "outputs": [],
   "source": [
    "# Normalizando os dados\n",
    "\n",
    "numeric_feats = predict.dtypes[predict.dtypes != \"object\"].index\n",
    "\n",
    "skewed_feats = predict[numeric_feats].apply(lambda x: skew(x.dropna())) #compute skewness\n",
    "skewed_feats = skewed_feats[skewed_feats > 0.75]\n",
    "skewed_feats = skewed_feats.index\n",
    "\n",
    "predict[skewed_feats] = np.log1p(predict[skewed_feats])"
   ]
  },
  {
   "cell_type": "code",
   "execution_count": 18,
   "metadata": {},
   "outputs": [
    {
     "data": {
      "text/plain": [
       "(13192, 16)"
      ]
     },
     "execution_count": 18,
     "metadata": {},
     "output_type": "execute_result"
    }
   ],
   "source": [
    "train_test.shape"
   ]
  },
  {
   "cell_type": "code",
   "execution_count": 19,
   "metadata": {},
   "outputs": [
    {
     "data": {
      "text/plain": [
       "(4592, 16)"
      ]
     },
     "execution_count": 19,
     "metadata": {},
     "output_type": "execute_result"
    }
   ],
   "source": [
    "predict.shape"
   ]
  },
  {
   "cell_type": "code",
   "execution_count": 20,
   "metadata": {},
   "outputs": [],
   "source": [
    "# Tratamento das variáveis categóricas.\n",
    "train_test['sexo'] = pd.Categorical(train_test['sexo'])\n",
    "train_test['sexo'] = train_test.sexo.cat.codes"
   ]
  },
  {
   "cell_type": "code",
   "execution_count": 21,
   "metadata": {},
   "outputs": [],
   "source": [
    "# Tratamento das variáveis categóricas.\n",
    "train_test_predict['situacao'] = pd.Categorical(train_test_predict['situacao'])\n",
    "train_test_predict['situacao'] = train_test_predict.situacao.cat.codes"
   ]
  },
  {
   "cell_type": "code",
   "execution_count": 22,
   "metadata": {},
   "outputs": [],
   "source": [
    "# Tratamento das variáveis categóricas.\n",
    "predict['sexo'] = pd.Categorical(predict['sexo'])\n",
    "predict['sexo'] = predict.sexo.cat.codes"
   ]
  },
  {
   "cell_type": "code",
   "execution_count": 23,
   "metadata": {},
   "outputs": [],
   "source": [
    "# Tratamento das variáveis categóricas.\n",
    "train_test = train_test.drop(['ano'], axis=1)\n",
    "predict = predict.drop(['ano'], axis=1)"
   ]
  },
  {
   "cell_type": "code",
   "execution_count": 24,
   "metadata": {},
   "outputs": [],
   "source": [
    "# Tratamento das variáveis categóricas.\n",
    "columns_categories = ['uf']\n",
    "data_dummies = pd.get_dummies(pd.DataFrame(train_test[columns_categories]))\n",
    "train_test = pd.concat([train_test, data_dummies], axis=1, sort=False)\n",
    "train_test = train_test.drop(columns_categories, axis=1)"
   ]
  },
  {
   "cell_type": "code",
   "execution_count": 25,
   "metadata": {},
   "outputs": [],
   "source": [
    "# Tratamento das variáveis categóricas.\n",
    "columns_categories = ['uf']\n",
    "data_dummies = pd.get_dummies(pd.DataFrame(predict[columns_categories]))\n",
    "predict = pd.concat([predict, data_dummies], axis=1, sort=False)\n",
    "predict = predict.drop(columns_categories, axis=1)"
   ]
  },
  {
   "cell_type": "code",
   "execution_count": 26,
   "metadata": {},
   "outputs": [
    {
     "data": {
      "text/html": [
       "<div>\n",
       "<style scoped>\n",
       "    .dataframe tbody tr th:only-of-type {\n",
       "        vertical-align: middle;\n",
       "    }\n",
       "\n",
       "    .dataframe tbody tr th {\n",
       "        vertical-align: top;\n",
       "    }\n",
       "\n",
       "    .dataframe thead th {\n",
       "        text-align: right;\n",
       "    }\n",
       "</style>\n",
       "<table border=\"1\" class=\"dataframe\">\n",
       "  <thead>\n",
       "    <tr style=\"text-align: right;\">\n",
       "      <th></th>\n",
       "      <th>quantidade_doacoes</th>\n",
       "      <th>quantidade_doadores</th>\n",
       "      <th>total_receita</th>\n",
       "      <th>media_receita</th>\n",
       "      <th>recursos_de_outros_candidatos.comites</th>\n",
       "      <th>recursos_de_pessoas_fisicas</th>\n",
       "      <th>recursos_de_pessoas_juridicas</th>\n",
       "      <th>recursos_proprios</th>\n",
       "      <th>recursos_de_partido_politico</th>\n",
       "      <th>quantidade_despesas</th>\n",
       "      <th>...</th>\n",
       "      <th>uf_PR</th>\n",
       "      <th>uf_RJ</th>\n",
       "      <th>uf_RN</th>\n",
       "      <th>uf_RO</th>\n",
       "      <th>uf_RR</th>\n",
       "      <th>uf_RS</th>\n",
       "      <th>uf_SC</th>\n",
       "      <th>uf_SE</th>\n",
       "      <th>uf_SP</th>\n",
       "      <th>uf_TO</th>\n",
       "    </tr>\n",
       "  </thead>\n",
       "  <tbody>\n",
       "    <tr>\n",
       "      <th>0</th>\n",
       "      <td>1.945910</td>\n",
       "      <td>1.945910</td>\n",
       "      <td>9.717218</td>\n",
       "      <td>7.925761</td>\n",
       "      <td>0.000000</td>\n",
       "      <td>9.105091</td>\n",
       "      <td>8.748464</td>\n",
       "      <td>7.170888</td>\n",
       "      <td>0.0</td>\n",
       "      <td>2.708050</td>\n",
       "      <td>...</td>\n",
       "      <td>0</td>\n",
       "      <td>0</td>\n",
       "      <td>0</td>\n",
       "      <td>0</td>\n",
       "      <td>0</td>\n",
       "      <td>0</td>\n",
       "      <td>0</td>\n",
       "      <td>0</td>\n",
       "      <td>0</td>\n",
       "      <td>0</td>\n",
       "    </tr>\n",
       "    <tr>\n",
       "      <th>1</th>\n",
       "      <td>2.639057</td>\n",
       "      <td>2.639057</td>\n",
       "      <td>10.035699</td>\n",
       "      <td>7.471278</td>\n",
       "      <td>8.798757</td>\n",
       "      <td>9.615872</td>\n",
       "      <td>6.908755</td>\n",
       "      <td>5.308268</td>\n",
       "      <td>0.0</td>\n",
       "      <td>3.218876</td>\n",
       "      <td>...</td>\n",
       "      <td>0</td>\n",
       "      <td>0</td>\n",
       "      <td>0</td>\n",
       "      <td>1</td>\n",
       "      <td>0</td>\n",
       "      <td>0</td>\n",
       "      <td>0</td>\n",
       "      <td>0</td>\n",
       "      <td>0</td>\n",
       "      <td>0</td>\n",
       "    </tr>\n",
       "    <tr>\n",
       "      <th>3</th>\n",
       "      <td>1.945910</td>\n",
       "      <td>1.945910</td>\n",
       "      <td>8.007074</td>\n",
       "      <td>6.216985</td>\n",
       "      <td>0.000000</td>\n",
       "      <td>7.048386</td>\n",
       "      <td>7.004991</td>\n",
       "      <td>6.621406</td>\n",
       "      <td>0.0</td>\n",
       "      <td>2.197225</td>\n",
       "      <td>...</td>\n",
       "      <td>0</td>\n",
       "      <td>0</td>\n",
       "      <td>0</td>\n",
       "      <td>0</td>\n",
       "      <td>0</td>\n",
       "      <td>0</td>\n",
       "      <td>0</td>\n",
       "      <td>0</td>\n",
       "      <td>0</td>\n",
       "      <td>0</td>\n",
       "    </tr>\n",
       "    <tr>\n",
       "      <th>5</th>\n",
       "      <td>2.197225</td>\n",
       "      <td>2.197225</td>\n",
       "      <td>10.661234</td>\n",
       "      <td>8.581956</td>\n",
       "      <td>7.719130</td>\n",
       "      <td>7.257891</td>\n",
       "      <td>0.000000</td>\n",
       "      <td>10.571343</td>\n",
       "      <td>0.0</td>\n",
       "      <td>3.663562</td>\n",
       "      <td>...</td>\n",
       "      <td>0</td>\n",
       "      <td>0</td>\n",
       "      <td>0</td>\n",
       "      <td>0</td>\n",
       "      <td>0</td>\n",
       "      <td>0</td>\n",
       "      <td>0</td>\n",
       "      <td>0</td>\n",
       "      <td>0</td>\n",
       "      <td>0</td>\n",
       "    </tr>\n",
       "    <tr>\n",
       "      <th>6</th>\n",
       "      <td>1.945910</td>\n",
       "      <td>1.945910</td>\n",
       "      <td>7.479983</td>\n",
       "      <td>5.691035</td>\n",
       "      <td>0.000000</td>\n",
       "      <td>0.000000</td>\n",
       "      <td>0.000000</td>\n",
       "      <td>7.479983</td>\n",
       "      <td>0.0</td>\n",
       "      <td>2.302585</td>\n",
       "      <td>...</td>\n",
       "      <td>0</td>\n",
       "      <td>0</td>\n",
       "      <td>0</td>\n",
       "      <td>0</td>\n",
       "      <td>0</td>\n",
       "      <td>0</td>\n",
       "      <td>0</td>\n",
       "      <td>0</td>\n",
       "      <td>0</td>\n",
       "      <td>0</td>\n",
       "    </tr>\n",
       "  </tbody>\n",
       "</table>\n",
       "<p>5 rows × 41 columns</p>\n",
       "</div>"
      ],
      "text/plain": [
       "   quantidade_doacoes  quantidade_doadores  total_receita  media_receita  \\\n",
       "0            1.945910             1.945910       9.717218       7.925761   \n",
       "1            2.639057             2.639057      10.035699       7.471278   \n",
       "3            1.945910             1.945910       8.007074       6.216985   \n",
       "5            2.197225             2.197225      10.661234       8.581956   \n",
       "6            1.945910             1.945910       7.479983       5.691035   \n",
       "\n",
       "   recursos_de_outros_candidatos.comites  recursos_de_pessoas_fisicas  \\\n",
       "0                               0.000000                     9.105091   \n",
       "1                               8.798757                     9.615872   \n",
       "3                               0.000000                     7.048386   \n",
       "5                               7.719130                     7.257891   \n",
       "6                               0.000000                     0.000000   \n",
       "\n",
       "   recursos_de_pessoas_juridicas  recursos_proprios  \\\n",
       "0                       8.748464           7.170888   \n",
       "1                       6.908755           5.308268   \n",
       "3                       7.004991           6.621406   \n",
       "5                       0.000000          10.571343   \n",
       "6                       0.000000           7.479983   \n",
       "\n",
       "   recursos_de_partido_politico  quantidade_despesas  ...    uf_PR  uf_RJ  \\\n",
       "0                           0.0             2.708050  ...        0      0   \n",
       "1                           0.0             3.218876  ...        0      0   \n",
       "3                           0.0             2.197225  ...        0      0   \n",
       "5                           0.0             3.663562  ...        0      0   \n",
       "6                           0.0             2.302585  ...        0      0   \n",
       "\n",
       "   uf_RN  uf_RO  uf_RR  uf_RS  uf_SC  uf_SE  uf_SP  uf_TO  \n",
       "0      0      0      0      0      0      0      0      0  \n",
       "1      0      1      0      0      0      0      0      0  \n",
       "3      0      0      0      0      0      0      0      0  \n",
       "5      0      0      0      0      0      0      0      0  \n",
       "6      0      0      0      0      0      0      0      0  \n",
       "\n",
       "[5 rows x 41 columns]"
      ]
     },
     "execution_count": 26,
     "metadata": {},
     "output_type": "execute_result"
    }
   ],
   "source": [
    "train_test.head()"
   ]
  },
  {
   "cell_type": "code",
   "execution_count": 27,
   "metadata": {},
   "outputs": [
    {
     "data": {
      "text/html": [
       "<div>\n",
       "<style scoped>\n",
       "    .dataframe tbody tr th:only-of-type {\n",
       "        vertical-align: middle;\n",
       "    }\n",
       "\n",
       "    .dataframe tbody tr th {\n",
       "        vertical-align: top;\n",
       "    }\n",
       "\n",
       "    .dataframe thead th {\n",
       "        text-align: right;\n",
       "    }\n",
       "</style>\n",
       "<table border=\"1\" class=\"dataframe\">\n",
       "  <thead>\n",
       "    <tr style=\"text-align: right;\">\n",
       "      <th></th>\n",
       "      <th>quantidade_doacoes</th>\n",
       "      <th>quantidade_doadores</th>\n",
       "      <th>total_receita</th>\n",
       "      <th>media_receita</th>\n",
       "      <th>recursos_de_outros_candidatos.comites</th>\n",
       "      <th>recursos_de_pessoas_fisicas</th>\n",
       "      <th>recursos_de_pessoas_juridicas</th>\n",
       "      <th>recursos_proprios</th>\n",
       "      <th>recursos_de_partido_politico</th>\n",
       "      <th>quantidade_despesas</th>\n",
       "      <th>...</th>\n",
       "      <th>uf_PR</th>\n",
       "      <th>uf_RJ</th>\n",
       "      <th>uf_RN</th>\n",
       "      <th>uf_RO</th>\n",
       "      <th>uf_RR</th>\n",
       "      <th>uf_RS</th>\n",
       "      <th>uf_SC</th>\n",
       "      <th>uf_SE</th>\n",
       "      <th>uf_SP</th>\n",
       "      <th>uf_TO</th>\n",
       "    </tr>\n",
       "  </thead>\n",
       "  <tbody>\n",
       "    <tr>\n",
       "      <th>0</th>\n",
       "      <td>1.386294</td>\n",
       "      <td>1.386294</td>\n",
       "      <td>7.365813</td>\n",
       "      <td>6.268471</td>\n",
       "      <td>0.000000</td>\n",
       "      <td>7.313887</td>\n",
       "      <td>0.000000</td>\n",
       "      <td>0.000000</td>\n",
       "      <td>4.394449</td>\n",
       "      <td>1.386294</td>\n",
       "      <td>...</td>\n",
       "      <td>0</td>\n",
       "      <td>0</td>\n",
       "      <td>0</td>\n",
       "      <td>0</td>\n",
       "      <td>0</td>\n",
       "      <td>0</td>\n",
       "      <td>0</td>\n",
       "      <td>0</td>\n",
       "      <td>0</td>\n",
       "      <td>0</td>\n",
       "    </tr>\n",
       "    <tr>\n",
       "      <th>1</th>\n",
       "      <td>1.791759</td>\n",
       "      <td>1.791759</td>\n",
       "      <td>8.064951</td>\n",
       "      <td>6.456770</td>\n",
       "      <td>0.000000</td>\n",
       "      <td>8.039480</td>\n",
       "      <td>0.000000</td>\n",
       "      <td>0.000000</td>\n",
       "      <td>4.394449</td>\n",
       "      <td>1.945910</td>\n",
       "      <td>...</td>\n",
       "      <td>0</td>\n",
       "      <td>0</td>\n",
       "      <td>0</td>\n",
       "      <td>0</td>\n",
       "      <td>0</td>\n",
       "      <td>0</td>\n",
       "      <td>0</td>\n",
       "      <td>0</td>\n",
       "      <td>0</td>\n",
       "      <td>0</td>\n",
       "    </tr>\n",
       "    <tr>\n",
       "      <th>2</th>\n",
       "      <td>3.713572</td>\n",
       "      <td>3.663562</td>\n",
       "      <td>12.727227</td>\n",
       "      <td>9.038464</td>\n",
       "      <td>7.562198</td>\n",
       "      <td>11.092869</td>\n",
       "      <td>11.945818</td>\n",
       "      <td>11.652696</td>\n",
       "      <td>0.000000</td>\n",
       "      <td>4.983607</td>\n",
       "      <td>...</td>\n",
       "      <td>0</td>\n",
       "      <td>0</td>\n",
       "      <td>0</td>\n",
       "      <td>0</td>\n",
       "      <td>0</td>\n",
       "      <td>0</td>\n",
       "      <td>0</td>\n",
       "      <td>0</td>\n",
       "      <td>0</td>\n",
       "      <td>0</td>\n",
       "    </tr>\n",
       "    <tr>\n",
       "      <th>3</th>\n",
       "      <td>3.401197</td>\n",
       "      <td>3.401197</td>\n",
       "      <td>11.962218</td>\n",
       "      <td>8.595100</td>\n",
       "      <td>10.574474</td>\n",
       "      <td>11.138739</td>\n",
       "      <td>9.741027</td>\n",
       "      <td>8.826758</td>\n",
       "      <td>10.126671</td>\n",
       "      <td>4.919981</td>\n",
       "      <td>...</td>\n",
       "      <td>0</td>\n",
       "      <td>0</td>\n",
       "      <td>0</td>\n",
       "      <td>0</td>\n",
       "      <td>0</td>\n",
       "      <td>0</td>\n",
       "      <td>0</td>\n",
       "      <td>0</td>\n",
       "      <td>0</td>\n",
       "      <td>0</td>\n",
       "    </tr>\n",
       "    <tr>\n",
       "      <th>4</th>\n",
       "      <td>5.081404</td>\n",
       "      <td>4.990433</td>\n",
       "      <td>13.510444</td>\n",
       "      <td>8.435486</td>\n",
       "      <td>9.210440</td>\n",
       "      <td>12.757293</td>\n",
       "      <td>12.531776</td>\n",
       "      <td>11.264477</td>\n",
       "      <td>10.126671</td>\n",
       "      <td>6.251904</td>\n",
       "      <td>...</td>\n",
       "      <td>0</td>\n",
       "      <td>0</td>\n",
       "      <td>0</td>\n",
       "      <td>0</td>\n",
       "      <td>0</td>\n",
       "      <td>0</td>\n",
       "      <td>0</td>\n",
       "      <td>0</td>\n",
       "      <td>0</td>\n",
       "      <td>0</td>\n",
       "    </tr>\n",
       "  </tbody>\n",
       "</table>\n",
       "<p>5 rows × 41 columns</p>\n",
       "</div>"
      ],
      "text/plain": [
       "   quantidade_doacoes  quantidade_doadores  total_receita  media_receita  \\\n",
       "0            1.386294             1.386294       7.365813       6.268471   \n",
       "1            1.791759             1.791759       8.064951       6.456770   \n",
       "2            3.713572             3.663562      12.727227       9.038464   \n",
       "3            3.401197             3.401197      11.962218       8.595100   \n",
       "4            5.081404             4.990433      13.510444       8.435486   \n",
       "\n",
       "   recursos_de_outros_candidatos.comites  recursos_de_pessoas_fisicas  \\\n",
       "0                               0.000000                     7.313887   \n",
       "1                               0.000000                     8.039480   \n",
       "2                               7.562198                    11.092869   \n",
       "3                              10.574474                    11.138739   \n",
       "4                               9.210440                    12.757293   \n",
       "\n",
       "   recursos_de_pessoas_juridicas  recursos_proprios  \\\n",
       "0                       0.000000           0.000000   \n",
       "1                       0.000000           0.000000   \n",
       "2                      11.945818          11.652696   \n",
       "3                       9.741027           8.826758   \n",
       "4                      12.531776          11.264477   \n",
       "\n",
       "   recursos_de_partido_politico  quantidade_despesas  ...    uf_PR  uf_RJ  \\\n",
       "0                      4.394449             1.386294  ...        0      0   \n",
       "1                      4.394449             1.945910  ...        0      0   \n",
       "2                      0.000000             4.983607  ...        0      0   \n",
       "3                     10.126671             4.919981  ...        0      0   \n",
       "4                     10.126671             6.251904  ...        0      0   \n",
       "\n",
       "   uf_RN  uf_RO  uf_RR  uf_RS  uf_SC  uf_SE  uf_SP  uf_TO  \n",
       "0      0      0      0      0      0      0      0      0  \n",
       "1      0      0      0      0      0      0      0      0  \n",
       "2      0      0      0      0      0      0      0      0  \n",
       "3      0      0      0      0      0      0      0      0  \n",
       "4      0      0      0      0      0      0      0      0  \n",
       "\n",
       "[5 rows x 41 columns]"
      ]
     },
     "execution_count": 27,
     "metadata": {},
     "output_type": "execute_result"
    }
   ],
   "source": [
    "predict.head()"
   ]
  },
  {
   "cell_type": "code",
   "execution_count": 28,
   "metadata": {},
   "outputs": [],
   "source": [
    "data_predict = predict[:]"
   ]
  },
  {
   "cell_type": "code",
   "execution_count": 29,
   "metadata": {},
   "outputs": [],
   "source": [
    "# Gerando uma amostra dos dados de treino e teste.\n",
    "data_train, data_test, target_train, target_test = train_test_split(train_test, train_test_predict, random_state = 8)"
   ]
  },
  {
   "cell_type": "code",
   "execution_count": 30,
   "metadata": {},
   "outputs": [
    {
     "data": {
      "text/html": [
       "<div>\n",
       "<style scoped>\n",
       "    .dataframe tbody tr th:only-of-type {\n",
       "        vertical-align: middle;\n",
       "    }\n",
       "\n",
       "    .dataframe tbody tr th {\n",
       "        vertical-align: top;\n",
       "    }\n",
       "\n",
       "    .dataframe thead th {\n",
       "        text-align: right;\n",
       "    }\n",
       "</style>\n",
       "<table border=\"1\" class=\"dataframe\">\n",
       "  <thead>\n",
       "    <tr style=\"text-align: right;\">\n",
       "      <th></th>\n",
       "      <th>quantidade_doacoes</th>\n",
       "      <th>quantidade_doadores</th>\n",
       "      <th>total_receita</th>\n",
       "      <th>media_receita</th>\n",
       "      <th>recursos_de_outros_candidatos.comites</th>\n",
       "      <th>recursos_de_pessoas_fisicas</th>\n",
       "      <th>recursos_de_pessoas_juridicas</th>\n",
       "      <th>recursos_proprios</th>\n",
       "      <th>recursos_de_partido_politico</th>\n",
       "      <th>quantidade_despesas</th>\n",
       "      <th>...</th>\n",
       "      <th>uf_PR</th>\n",
       "      <th>uf_RJ</th>\n",
       "      <th>uf_RN</th>\n",
       "      <th>uf_RO</th>\n",
       "      <th>uf_RR</th>\n",
       "      <th>uf_RS</th>\n",
       "      <th>uf_SC</th>\n",
       "      <th>uf_SE</th>\n",
       "      <th>uf_SP</th>\n",
       "      <th>uf_TO</th>\n",
       "    </tr>\n",
       "  </thead>\n",
       "  <tbody>\n",
       "    <tr>\n",
       "      <th>1956</th>\n",
       "      <td>0.693147</td>\n",
       "      <td>0.693147</td>\n",
       "      <td>8.517393</td>\n",
       "      <td>8.517393</td>\n",
       "      <td>8.517393</td>\n",
       "      <td>0.000000</td>\n",
       "      <td>0.000000</td>\n",
       "      <td>0.000000</td>\n",
       "      <td>0.000000</td>\n",
       "      <td>2.484907</td>\n",
       "      <td>...</td>\n",
       "      <td>0</td>\n",
       "      <td>0</td>\n",
       "      <td>0</td>\n",
       "      <td>0</td>\n",
       "      <td>0</td>\n",
       "      <td>0</td>\n",
       "      <td>0</td>\n",
       "      <td>0</td>\n",
       "      <td>0</td>\n",
       "      <td>0</td>\n",
       "    </tr>\n",
       "    <tr>\n",
       "      <th>3387</th>\n",
       "      <td>1.386294</td>\n",
       "      <td>1.386294</td>\n",
       "      <td>7.952615</td>\n",
       "      <td>6.854703</td>\n",
       "      <td>0.000000</td>\n",
       "      <td>0.000000</td>\n",
       "      <td>0.000000</td>\n",
       "      <td>7.952615</td>\n",
       "      <td>0.000000</td>\n",
       "      <td>2.079442</td>\n",
       "      <td>...</td>\n",
       "      <td>0</td>\n",
       "      <td>0</td>\n",
       "      <td>0</td>\n",
       "      <td>0</td>\n",
       "      <td>0</td>\n",
       "      <td>0</td>\n",
       "      <td>0</td>\n",
       "      <td>0</td>\n",
       "      <td>1</td>\n",
       "      <td>0</td>\n",
       "    </tr>\n",
       "    <tr>\n",
       "      <th>1007</th>\n",
       "      <td>4.382027</td>\n",
       "      <td>4.330733</td>\n",
       "      <td>13.785367</td>\n",
       "      <td>9.415999</td>\n",
       "      <td>0.000000</td>\n",
       "      <td>11.377232</td>\n",
       "      <td>13.619491</td>\n",
       "      <td>11.002117</td>\n",
       "      <td>6.908755</td>\n",
       "      <td>6.326149</td>\n",
       "      <td>...</td>\n",
       "      <td>0</td>\n",
       "      <td>0</td>\n",
       "      <td>0</td>\n",
       "      <td>0</td>\n",
       "      <td>0</td>\n",
       "      <td>0</td>\n",
       "      <td>0</td>\n",
       "      <td>0</td>\n",
       "      <td>0</td>\n",
       "      <td>0</td>\n",
       "    </tr>\n",
       "    <tr>\n",
       "      <th>4342</th>\n",
       "      <td>3.091042</td>\n",
       "      <td>3.091042</td>\n",
       "      <td>9.975901</td>\n",
       "      <td>6.932311</td>\n",
       "      <td>6.464588</td>\n",
       "      <td>9.144307</td>\n",
       "      <td>9.305741</td>\n",
       "      <td>6.216606</td>\n",
       "      <td>0.000000</td>\n",
       "      <td>3.091042</td>\n",
       "      <td>...</td>\n",
       "      <td>0</td>\n",
       "      <td>0</td>\n",
       "      <td>0</td>\n",
       "      <td>0</td>\n",
       "      <td>0</td>\n",
       "      <td>0</td>\n",
       "      <td>0</td>\n",
       "      <td>0</td>\n",
       "      <td>0</td>\n",
       "      <td>0</td>\n",
       "    </tr>\n",
       "    <tr>\n",
       "      <th>127</th>\n",
       "      <td>3.583519</td>\n",
       "      <td>3.433987</td>\n",
       "      <td>10.615456</td>\n",
       "      <td>7.060940</td>\n",
       "      <td>0.000000</td>\n",
       "      <td>10.091667</td>\n",
       "      <td>9.705098</td>\n",
       "      <td>0.000000</td>\n",
       "      <td>5.393628</td>\n",
       "      <td>3.332205</td>\n",
       "      <td>...</td>\n",
       "      <td>0</td>\n",
       "      <td>0</td>\n",
       "      <td>0</td>\n",
       "      <td>0</td>\n",
       "      <td>0</td>\n",
       "      <td>0</td>\n",
       "      <td>0</td>\n",
       "      <td>0</td>\n",
       "      <td>0</td>\n",
       "      <td>0</td>\n",
       "    </tr>\n",
       "  </tbody>\n",
       "</table>\n",
       "<p>5 rows × 41 columns</p>\n",
       "</div>"
      ],
      "text/plain": [
       "      quantidade_doacoes  quantidade_doadores  total_receita  media_receita  \\\n",
       "1956            0.693147             0.693147       8.517393       8.517393   \n",
       "3387            1.386294             1.386294       7.952615       6.854703   \n",
       "1007            4.382027             4.330733      13.785367       9.415999   \n",
       "4342            3.091042             3.091042       9.975901       6.932311   \n",
       "127             3.583519             3.433987      10.615456       7.060940   \n",
       "\n",
       "      recursos_de_outros_candidatos.comites  recursos_de_pessoas_fisicas  \\\n",
       "1956                               8.517393                     0.000000   \n",
       "3387                               0.000000                     0.000000   \n",
       "1007                               0.000000                    11.377232   \n",
       "4342                               6.464588                     9.144307   \n",
       "127                                0.000000                    10.091667   \n",
       "\n",
       "      recursos_de_pessoas_juridicas  recursos_proprios  \\\n",
       "1956                       0.000000           0.000000   \n",
       "3387                       0.000000           7.952615   \n",
       "1007                      13.619491          11.002117   \n",
       "4342                       9.305741           6.216606   \n",
       "127                        9.705098           0.000000   \n",
       "\n",
       "      recursos_de_partido_politico  quantidade_despesas  ...    uf_PR  uf_RJ  \\\n",
       "1956                      0.000000             2.484907  ...        0      0   \n",
       "3387                      0.000000             2.079442  ...        0      0   \n",
       "1007                      6.908755             6.326149  ...        0      0   \n",
       "4342                      0.000000             3.091042  ...        0      0   \n",
       "127                       5.393628             3.332205  ...        0      0   \n",
       "\n",
       "      uf_RN  uf_RO  uf_RR  uf_RS  uf_SC  uf_SE  uf_SP  uf_TO  \n",
       "1956      0      0      0      0      0      0      0      0  \n",
       "3387      0      0      0      0      0      0      1      0  \n",
       "1007      0      0      0      0      0      0      0      0  \n",
       "4342      0      0      0      0      0      0      0      0  \n",
       "127       0      0      0      0      0      0      0      0  \n",
       "\n",
       "[5 rows x 41 columns]"
      ]
     },
     "execution_count": 30,
     "metadata": {},
     "output_type": "execute_result"
    }
   ],
   "source": [
    "data_train.head()"
   ]
  },
  {
   "cell_type": "code",
   "execution_count": 31,
   "metadata": {},
   "outputs": [
    {
     "data": {
      "text/html": [
       "<div>\n",
       "<style scoped>\n",
       "    .dataframe tbody tr th:only-of-type {\n",
       "        vertical-align: middle;\n",
       "    }\n",
       "\n",
       "    .dataframe tbody tr th {\n",
       "        vertical-align: top;\n",
       "    }\n",
       "\n",
       "    .dataframe thead th {\n",
       "        text-align: right;\n",
       "    }\n",
       "</style>\n",
       "<table border=\"1\" class=\"dataframe\">\n",
       "  <thead>\n",
       "    <tr style=\"text-align: right;\">\n",
       "      <th></th>\n",
       "      <th>quantidade_doacoes</th>\n",
       "      <th>quantidade_doadores</th>\n",
       "      <th>total_receita</th>\n",
       "      <th>media_receita</th>\n",
       "      <th>recursos_de_outros_candidatos.comites</th>\n",
       "      <th>recursos_de_pessoas_fisicas</th>\n",
       "      <th>recursos_de_pessoas_juridicas</th>\n",
       "      <th>recursos_proprios</th>\n",
       "      <th>recursos_de_partido_politico</th>\n",
       "      <th>quantidade_despesas</th>\n",
       "      <th>...</th>\n",
       "      <th>uf_PR</th>\n",
       "      <th>uf_RJ</th>\n",
       "      <th>uf_RN</th>\n",
       "      <th>uf_RO</th>\n",
       "      <th>uf_RR</th>\n",
       "      <th>uf_RS</th>\n",
       "      <th>uf_SC</th>\n",
       "      <th>uf_SE</th>\n",
       "      <th>uf_SP</th>\n",
       "      <th>uf_TO</th>\n",
       "    </tr>\n",
       "  </thead>\n",
       "  <tbody>\n",
       "    <tr>\n",
       "      <th>478</th>\n",
       "      <td>3.091042</td>\n",
       "      <td>3.044522</td>\n",
       "      <td>12.738780</td>\n",
       "      <td>9.694317</td>\n",
       "      <td>0.000000</td>\n",
       "      <td>8.958154</td>\n",
       "      <td>12.685215</td>\n",
       "      <td>9.210440</td>\n",
       "      <td>0.000000</td>\n",
       "      <td>4.499810</td>\n",
       "      <td>...</td>\n",
       "      <td>1</td>\n",
       "      <td>0</td>\n",
       "      <td>0</td>\n",
       "      <td>0</td>\n",
       "      <td>0</td>\n",
       "      <td>0</td>\n",
       "      <td>0</td>\n",
       "      <td>0</td>\n",
       "      <td>0</td>\n",
       "      <td>0</td>\n",
       "    </tr>\n",
       "    <tr>\n",
       "      <th>5196</th>\n",
       "      <td>1.098612</td>\n",
       "      <td>1.098612</td>\n",
       "      <td>7.030857</td>\n",
       "      <td>6.338594</td>\n",
       "      <td>7.030857</td>\n",
       "      <td>0.000000</td>\n",
       "      <td>0.000000</td>\n",
       "      <td>0.000000</td>\n",
       "      <td>0.000000</td>\n",
       "      <td>1.098612</td>\n",
       "      <td>...</td>\n",
       "      <td>1</td>\n",
       "      <td>0</td>\n",
       "      <td>0</td>\n",
       "      <td>0</td>\n",
       "      <td>0</td>\n",
       "      <td>0</td>\n",
       "      <td>0</td>\n",
       "      <td>0</td>\n",
       "      <td>0</td>\n",
       "      <td>0</td>\n",
       "    </tr>\n",
       "    <tr>\n",
       "      <th>4447</th>\n",
       "      <td>4.110874</td>\n",
       "      <td>3.931826</td>\n",
       "      <td>14.923875</td>\n",
       "      <td>10.829550</td>\n",
       "      <td>13.844196</td>\n",
       "      <td>11.702727</td>\n",
       "      <td>14.388410</td>\n",
       "      <td>8.699681</td>\n",
       "      <td>11.512935</td>\n",
       "      <td>7.883823</td>\n",
       "      <td>...</td>\n",
       "      <td>0</td>\n",
       "      <td>0</td>\n",
       "      <td>0</td>\n",
       "      <td>0</td>\n",
       "      <td>0</td>\n",
       "      <td>0</td>\n",
       "      <td>0</td>\n",
       "      <td>0</td>\n",
       "      <td>0</td>\n",
       "      <td>0</td>\n",
       "    </tr>\n",
       "    <tr>\n",
       "      <th>6155</th>\n",
       "      <td>3.891820</td>\n",
       "      <td>3.784190</td>\n",
       "      <td>12.347377</td>\n",
       "      <td>8.476380</td>\n",
       "      <td>8.006701</td>\n",
       "      <td>10.737439</td>\n",
       "      <td>10.126671</td>\n",
       "      <td>11.959584</td>\n",
       "      <td>0.000000</td>\n",
       "      <td>4.955827</td>\n",
       "      <td>...</td>\n",
       "      <td>0</td>\n",
       "      <td>0</td>\n",
       "      <td>0</td>\n",
       "      <td>0</td>\n",
       "      <td>0</td>\n",
       "      <td>1</td>\n",
       "      <td>0</td>\n",
       "      <td>0</td>\n",
       "      <td>0</td>\n",
       "      <td>0</td>\n",
       "    </tr>\n",
       "    <tr>\n",
       "      <th>3908</th>\n",
       "      <td>0.693147</td>\n",
       "      <td>0.693147</td>\n",
       "      <td>8.006701</td>\n",
       "      <td>8.006701</td>\n",
       "      <td>0.000000</td>\n",
       "      <td>8.006701</td>\n",
       "      <td>0.000000</td>\n",
       "      <td>0.000000</td>\n",
       "      <td>0.000000</td>\n",
       "      <td>1.791759</td>\n",
       "      <td>...</td>\n",
       "      <td>0</td>\n",
       "      <td>0</td>\n",
       "      <td>0</td>\n",
       "      <td>0</td>\n",
       "      <td>0</td>\n",
       "      <td>0</td>\n",
       "      <td>0</td>\n",
       "      <td>0</td>\n",
       "      <td>0</td>\n",
       "      <td>0</td>\n",
       "    </tr>\n",
       "  </tbody>\n",
       "</table>\n",
       "<p>5 rows × 41 columns</p>\n",
       "</div>"
      ],
      "text/plain": [
       "      quantidade_doacoes  quantidade_doadores  total_receita  media_receita  \\\n",
       "478             3.091042             3.044522      12.738780       9.694317   \n",
       "5196            1.098612             1.098612       7.030857       6.338594   \n",
       "4447            4.110874             3.931826      14.923875      10.829550   \n",
       "6155            3.891820             3.784190      12.347377       8.476380   \n",
       "3908            0.693147             0.693147       8.006701       8.006701   \n",
       "\n",
       "      recursos_de_outros_candidatos.comites  recursos_de_pessoas_fisicas  \\\n",
       "478                                0.000000                     8.958154   \n",
       "5196                               7.030857                     0.000000   \n",
       "4447                              13.844196                    11.702727   \n",
       "6155                               8.006701                    10.737439   \n",
       "3908                               0.000000                     8.006701   \n",
       "\n",
       "      recursos_de_pessoas_juridicas  recursos_proprios  \\\n",
       "478                       12.685215           9.210440   \n",
       "5196                       0.000000           0.000000   \n",
       "4447                      14.388410           8.699681   \n",
       "6155                      10.126671          11.959584   \n",
       "3908                       0.000000           0.000000   \n",
       "\n",
       "      recursos_de_partido_politico  quantidade_despesas  ...    uf_PR  uf_RJ  \\\n",
       "478                       0.000000             4.499810  ...        1      0   \n",
       "5196                      0.000000             1.098612  ...        1      0   \n",
       "4447                     11.512935             7.883823  ...        0      0   \n",
       "6155                      0.000000             4.955827  ...        0      0   \n",
       "3908                      0.000000             1.791759  ...        0      0   \n",
       "\n",
       "      uf_RN  uf_RO  uf_RR  uf_RS  uf_SC  uf_SE  uf_SP  uf_TO  \n",
       "478       0      0      0      0      0      0      0      0  \n",
       "5196      0      0      0      0      0      0      0      0  \n",
       "4447      0      0      0      0      0      0      0      0  \n",
       "6155      0      0      0      1      0      0      0      0  \n",
       "3908      0      0      0      0      0      0      0      0  \n",
       "\n",
       "[5 rows x 41 columns]"
      ]
     },
     "execution_count": 31,
     "metadata": {},
     "output_type": "execute_result"
    }
   ],
   "source": [
    "data_test.head()"
   ]
  },
  {
   "cell_type": "code",
   "execution_count": 32,
   "metadata": {},
   "outputs": [
    {
     "data": {
      "text/plain": [
       "(9894, 41)"
      ]
     },
     "execution_count": 32,
     "metadata": {},
     "output_type": "execute_result"
    }
   ],
   "source": [
    "data_train.shape"
   ]
  },
  {
   "cell_type": "code",
   "execution_count": 33,
   "metadata": {},
   "outputs": [
    {
     "data": {
      "text/plain": [
       "(3298, 41)"
      ]
     },
     "execution_count": 33,
     "metadata": {},
     "output_type": "execute_result"
    }
   ],
   "source": [
    "data_test.shape"
   ]
  },
  {
   "cell_type": "code",
   "execution_count": 34,
   "metadata": {},
   "outputs": [],
   "source": [
    "# Definição de funções que irão auxiliar na definição e escolha dos modelos.\n",
    "\n",
    "def confusion_val(classifier, X_train, Y_train, cv):\n",
    "    y_pred = cross_val_predict(classifier, X_train, Y_train, cv=cv)\n",
    "    cm = confusion_matrix(Y_train, y_pred)\n",
    "    fig = plt.figure(figsize=(5, 5))\n",
    "    plot = plot_confusion_matrix(cm, classes=['Eleito','N Eleito'], normalize=False, title='Matriz de Confusao')\n",
    "    plt.show()"
   ]
  },
  {
   "cell_type": "code",
   "execution_count": 35,
   "metadata": {},
   "outputs": [],
   "source": [
    "# Definição de funções que irão auxiliar na definição e escolha dos modelos.\n",
    "\n",
    "def report_cv(model, x, y):\n",
    "    f1 = cross_val_score(model, x, y, scoring='f1', cv=StratifiedKFold(n_splits=5, shuffle=False, random_state=3058))\n",
    "    return(f1)"
   ]
  },
  {
   "cell_type": "code",
   "execution_count": 36,
   "metadata": {},
   "outputs": [],
   "source": [
    "# Definição de funções que irão auxiliar na definição e escolha dos modelos.\n",
    "\n",
    "def plot_confusion_matrix(cm, classes,\n",
    "                          normalize=False,\n",
    "                          title='Confusion matrix',\n",
    "                          cmap=plt.cm.winter):\n",
    "    if normalize:\n",
    "        cm = cm.astype('float') / cm.sum(axis=1)[:, np.newaxis]\n",
    "    plt.imshow(cm, interpolation='nearest', cmap=cmap)\n",
    "    plt.title(title, fontsize=20)\n",
    "    plt.colorbar()\n",
    "    tick_marks = np.arange(len(classes))\n",
    "    plt.xticks(tick_marks, classes, fontsize=15)\n",
    "    plt.yticks(tick_marks, classes, fontsize=15)\n",
    "    \n",
    "    fmt = '.2f' if normalize else 'd'\n",
    "    thresh = cm.max() / 2.\n",
    "\n",
    "    for i, j in itertools.product(range(cm.shape[0]), range(cm.shape[1])):\n",
    "        plt.text(j, i, format(cm[i, j], fmt), horizontalalignment=\"center\", \n",
    "                 color=\"white\" if cm[i, j] < thresh else \"black\", fontsize=40)\n",
    "    \n",
    "    plt.tight_layout()\n",
    "    plt.ylabel('True label', fontsize=10)\n",
    "    plt.xlabel('Predicted label', fontsize=10)\n",
    "\n",
    "    return plt"
   ]
  },
  {
   "cell_type": "code",
   "execution_count": 37,
   "metadata": {},
   "outputs": [],
   "source": [
    "# Definição de funções que irão auxiliar na definição e escolha dos modelos.\n",
    "\n",
    "def sample_confusion_val(Y_train, y_pred):\n",
    "    cm = confusion_matrix(Y_train, y_pred)\n",
    "    fig = plt.figure(figsize=(5, 5))\n",
    "    plot = plot_confusion_matrix(cm, classes=['Eleito','N Eleito'], normalize=False, title='Matriz de Confusao')\n",
    "    plt.show()"
   ]
  },
  {
   "cell_type": "code",
   "execution_count": 38,
   "metadata": {},
   "outputs": [],
   "source": [
    "# Definição de funções que irão auxiliar na definição e escolha dos modelos.\n",
    "\n",
    "def cross_val(classifier, X_train, Y_train, cv):\n",
    "    acc = cross_val_score(classifier, X_train, Y_train.round(), cv=cv)\n",
    "    prec = cross_val_score(classifier, X_train, Y_train, scoring='precision', cv=cv)\n",
    "    rec = cross_val_score(classifier, X_train, Y_train, scoring='recall', cv=cv)\n",
    "    f1 = cross_val_score(classifier, X_train, Y_train, scoring='f1', cv=cv)\n",
    "    roc_auc = cross_val_score(classifier, X_train, Y_train, scoring='roc_auc', cv=cv)\n",
    "    \n",
    "    print(\"Accuracy: %.2f%%\" % (np.ma.median(acc) * 100))\n",
    "    print(\"Precision: %.2f%%\" % (np.ma.median(prec) * 100))\n",
    "    print(\"Recall: %.2f%%\" % (np.ma.median(rec) * 100))\n",
    "    print(\"F-measure: %.2f%%\" % (np.ma.median(f1) * 100))\n",
    "    print(\"ROC AUC: %.2f%%\" % (np.ma.median(roc_auc) * 100))"
   ]
  },
  {
   "cell_type": "code",
   "execution_count": 39,
   "metadata": {},
   "outputs": [],
   "source": [
    "# Definição de funções que irão auxiliar na definição e escolha dos modelos.\n",
    "\n",
    "def test_model(model):\n",
    "    model.fit(data_test, target_test)\n",
    "    print(metrics.classification_report(target_test, model.predict(data_test), output_dict=True)[\"macro avg\"])"
   ]
  },
  {
   "cell_type": "markdown",
   "metadata": {},
   "source": [
    "# 2) Treine: um modelo de regressão logística, KNN, uma árvore de decisão e um modelo de adaboost. Tune esses modelos usando validação cruzada e controle overfitting se necessário, considerando as particularidades de cada modelo."
   ]
  },
  {
   "cell_type": "markdown",
   "metadata": {},
   "source": [
    "## Modelo Linear"
   ]
  },
  {
   "cell_type": "code",
   "execution_count": 40,
   "metadata": {},
   "outputs": [
    {
     "data": {
      "image/png": "[encoded data removed]",
      "text/plain": [
       "<Figure size 432x288 with 1 Axes>"
      ]
     },
     "metadata": {
      "needs_background": "light"
     },
     "output_type": "display_data"
    },
    {
     "name": "stdout",
     "output_type": "stream",
     "text": [
      "O melhor alpha é 0.07, com F1 = 0.916994597391\n"
     ]
    }
   ],
   "source": [
    "from sklearn.linear_model import LogisticRegression\n",
    "alphas = np.arange(0.01,0.1,0.01).tolist()\n",
    "cv_logRegression = [report_cv(LogisticRegression(solver=\"lbfgs\", max_iter=10000, C=alpha),\n",
    "                         data_train, \n",
    "                         target_train).mean()\n",
    "                    for alpha in alphas]\n",
    "\n",
    "cv_logRegression = pd.Series(cv_logRegression, index = alphas)\n",
    "cv_logRegression.plot(title = \"Cross validation - Logistic Regression\")\n",
    "plt.xlabel(\"Alpha\")\n",
    "plt.ylabel(\"F1-score\")\n",
    "plt.show()\n",
    "print(\"O melhor alpha é {0}, com F1 = {1}\".format(cv_logRegression.idxmax(), cv_logRegression.max()))"
   ]
  },
  {
   "cell_type": "code",
   "execution_count": 41,
   "metadata": {},
   "outputs": [],
   "source": [
    "reg_log = LogisticRegression(solver=\"lbfgs\", max_iter=10000, C=cv_logRegression.idxmax(), random_state=1)"
   ]
  },
  {
   "cell_type": "code",
   "execution_count": 44,
   "metadata": {},
   "outputs": [
    {
     "name": "stdout",
     "output_type": "stream",
     "text": [
      "Accuracy: 91.16%\n",
      "Precision: 88.89%\n",
      "Recall: 94.96%\n",
      "F-measure: 91.58%\n",
      "ROC AUC: 95.78%\n"
     ]
    }
   ],
   "source": [
    "cross_val(reg_log, data_train, target_train['situacao'], 10)\n"
   ]
  },
  {
   "cell_type": "code",
   "execution_count": 45,
   "metadata": {},
   "outputs": [
    {
     "name": "stdout",
     "output_type": "stream",
     "text": [
      "Accuracy: 91.52%\n",
      "Precision: 88.45%\n",
      "Recall: 96.03%\n",
      "F-measure: 91.84%\n",
      "ROC AUC: 96.01%\n"
     ]
    }
   ],
   "source": [
    "cross_val(reg_log, data_test, target_test['situacao'], 10)"
   ]
  },
  {
   "cell_type": "markdown",
   "metadata": {},
   "source": [
    "## KNN"
   ]
  },
  {
   "cell_type": "code",
   "execution_count": 46,
   "metadata": {},
   "outputs": [
    {
     "name": "stdout",
     "output_type": "stream",
     "text": [
      "A melhor quantidade de vizinhos é 21, com F1 = 0.904944546677\n"
     ]
    },
    {
     "data": {
      "image/png": "[encoded data removed]",
      "text/plain": [
       "<Figure size 432x288 with 1 Axes>"
      ]
     },
     "metadata": {
      "needs_background": "light"
     },
     "output_type": "display_data"
    }
   ],
   "source": [
    "from sklearn.neighbors import KNeighborsClassifier\n",
    "neighbors = np.arange(20,50,1).tolist()\n",
    "cv_knn = [report_cv(KNeighborsClassifier(n_neighbors=neighbor),\n",
    "               data_train,\n",
    "               target_train).mean() \n",
    "            for neighbor in neighbors]\n",
    "\n",
    "cv_knn = pd.Series(cv_knn, index = neighbors)\n",
    "cv_knn.plot(title = \"Cross validation - KNN\")\n",
    "plt.xlabel(\"Neighbor\")\n",
    "plt.ylabel(\"F1-score\")\n",
    "print(\"A melhor quantidade de vizinhos é {0}, com F1 = {1}\".format(cv_knn.idxmax(), cv_knn.max()))"
   ]
  },
  {
   "cell_type": "code",
   "execution_count": 47,
   "metadata": {},
   "outputs": [],
   "source": [
    "knn = KNeighborsClassifier(n_neighbors=cv_knn.idxmax())"
   ]
  },
  {
   "cell_type": "code",
   "execution_count": 48,
   "metadata": {},
   "outputs": [
    {
     "name": "stdout",
     "output_type": "stream",
     "text": [
      "Accuracy: 89.74%\n",
      "Precision: 86.74%\n",
      "Recall: 94.26%\n",
      "F-measure: 90.22%\n",
      "ROC AUC: 95.38%\n"
     ]
    }
   ],
   "source": [
    "cross_val(knn, data_train, target_train['situacao'], 10)"
   ]
  },
  {
   "cell_type": "code",
   "execution_count": 49,
   "metadata": {},
   "outputs": [
    {
     "name": "stdout",
     "output_type": "stream",
     "text": [
      "Accuracy: 89.36%\n",
      "Precision: 85.51%\n",
      "Recall: 93.58%\n",
      "F-measure: 89.88%\n",
      "ROC AUC: 94.80%\n"
     ]
    }
   ],
   "source": [
    "cross_val(knn, data_test, target_test['situacao'], 10)"
   ]
  },
  {
   "cell_type": "markdown",
   "metadata": {},
   "source": [
    "## Árvore de decisão"
   ]
  },
  {
   "cell_type": "code",
   "execution_count": 50,
   "metadata": {},
   "outputs": [
    {
     "name": "stdout",
     "output_type": "stream",
     "text": [
      "A profundidade máxima ideal é 14, com F1 = 0.953643306337\n"
     ]
    },
    {
     "data": {
      "image/png": "[encoded data removed]",
      "text/plain": [
       "<Figure size 432x288 with 1 Axes>"
      ]
     },
     "metadata": {
      "needs_background": "light"
     },
     "output_type": "display_data"
    }
   ],
   "source": [
    "from sklearn.tree import DecisionTreeClassifier\n",
    "depths = np.arange(1,15,1).tolist()\n",
    "cv_tree = [report_cv(DecisionTreeClassifier(max_depth = depth),\n",
    "                data_train,\n",
    "                target_train).mean() \n",
    "            for depth in depths]\n",
    "\n",
    "cv_tree = pd.Series(cv_tree, index = depths)\n",
    "cv_tree.plot(title = \"Cross validation - Decision Tree\")\n",
    "plt.xlabel(\"Depth\")\n",
    "plt.ylabel(\"F1-score\")\n",
    "print(\"A profundidade máxima ideal é {0}, com F1 = {1}\".format(cv_tree.idxmax(), cv_tree.max()))"
   ]
  },
  {
   "cell_type": "code",
   "execution_count": 51,
   "metadata": {},
   "outputs": [],
   "source": [
    "tree = DecisionTreeClassifier(max_depth=cv_tree.idxmax())"
   ]
  },
  {
   "cell_type": "code",
   "execution_count": 52,
   "metadata": {},
   "outputs": [
    {
     "name": "stdout",
     "output_type": "stream",
     "text": [
      "Accuracy: 95.15%\n",
      "Precision: 91.57%\n",
      "Recall: 99.60%\n",
      "F-measure: 95.38%\n",
      "ROC AUC: 96.42%\n"
     ]
    }
   ],
   "source": [
    "cross_val(tree, data_train, target_train['situacao'], 10)"
   ]
  },
  {
   "cell_type": "code",
   "execution_count": 53,
   "metadata": {},
   "outputs": [
    {
     "name": "stdout",
     "output_type": "stream",
     "text": [
      "Accuracy: 92.58%\n",
      "Precision: 89.68%\n",
      "Recall: 96.32%\n",
      "F-measure: 92.49%\n",
      "ROC AUC: 92.47%\n"
     ]
    }
   ],
   "source": [
    "cross_val(tree, data_test, target_test['situacao'], 10)"
   ]
  },
  {
   "cell_type": "markdown",
   "metadata": {},
   "source": [
    "## Ada Boost "
   ]
  },
  {
   "cell_type": "code",
   "execution_count": 54,
   "metadata": {},
   "outputs": [
    {
     "name": "stdout",
     "output_type": "stream",
     "text": [
      "A quantidade de árvores ideal é 39, com F1 = 0.940638314148\n"
     ]
    },
    {
     "data": {
      "image/png": "[encoded data removed]",
      "text/plain": [
       "<Figure size 432x288 with 1 Axes>"
      ]
     },
     "metadata": {
      "needs_background": "light"
     },
     "output_type": "display_data"
    }
   ],
   "source": [
    "from sklearn.ensemble import AdaBoostClassifier\n",
    "estimators = np.arange(35,45,1).tolist()\n",
    "cv_ada =  [report_cv(AdaBoostClassifier(DecisionTreeClassifier(max_depth=cv_tree.idxmax()), \n",
    "                                    algorithm=\"SAMME\", \n",
    "                                    n_estimators=estimator),\n",
    "                data_test,\n",
    "                target_test).mean() \n",
    "            for estimator in estimators]\n",
    "\n",
    "cv_ada = pd.Series(cv_ada, index = estimators)\n",
    "cv_ada.plot(title = \"Cross validation - Adaboost\")\n",
    "plt.xlabel(\"Estimator\")\n",
    "plt.ylabel(\"F1-score\")\n",
    "print(\"A quantidade de árvores ideal é {0}, com F1 = {1}\".format(cv_ada.idxmax(), cv_ada.max()))"
   ]
  },
  {
   "cell_type": "code",
   "execution_count": 55,
   "metadata": {},
   "outputs": [],
   "source": [
    "ada = AdaBoostClassifier(DecisionTreeClassifier(max_depth=cv_tree.idxmax()), \n",
    "                                    algorithm=\"SAMME\", \n",
    "                                    n_estimators=cv_ada.idxmax())"
   ]
  },
  {
   "cell_type": "code",
   "execution_count": 56,
   "metadata": {},
   "outputs": [
    {
     "name": "stdout",
     "output_type": "stream",
     "text": [
      "Accuracy: 96.66%\n",
      "Precision: 93.85%\n",
      "Recall: 99.90%\n",
      "F-measure: 96.88%\n",
      "ROC AUC: 99.93%\n"
     ]
    }
   ],
   "source": [
    "cross_val(ada, data_train, target_train['situacao'], 10)"
   ]
  },
  {
   "cell_type": "code",
   "execution_count": 57,
   "metadata": {},
   "outputs": [
    {
     "name": "stdout",
     "output_type": "stream",
     "text": [
      "Accuracy: 93.94%\n",
      "Precision: 89.89%\n",
      "Recall: 98.16%\n",
      "F-measure: 94.33%\n",
      "ROC AUC: 98.73%\n"
     ]
    }
   ],
   "source": [
    "cross_val(ada, data_test, target_test['situacao'], 10)"
   ]
  },
  {
   "cell_type": "markdown",
   "metadata": {},
   "source": [
    "## Random Forest"
   ]
  },
  {
   "cell_type": "code",
   "execution_count": 58,
   "metadata": {},
   "outputs": [
    {
     "name": "stdout",
     "output_type": "stream",
     "text": [
      "A quantidade de árvores ideal é 159, com F1 = 0.936638936583\n"
     ]
    },
    {
     "data": {
      "image/png": "[encoded data removed]",
      "text/plain": [
       "<Figure size 432x288 with 1 Axes>"
      ]
     },
     "metadata": {
      "needs_background": "light"
     },
     "output_type": "display_data"
    }
   ],
   "source": [
    "from sklearn.ensemble import RandomForestClassifier\n",
    "trees = np.arange(100,200,1).tolist()\n",
    "cv_random_forest = [report_cv(RandomForestClassifier(n_estimators=tree, max_depth=cv_tree.idxmax(), random_state=0),\n",
    "                         data_test,\n",
    "                         target_test).mean() \n",
    "                    for tree in trees]\n",
    "\n",
    "cv_random_forest = pd.Series(cv_random_forest, index = trees)\n",
    "cv_random_forest.plot(title = \"Cross validation - Random Forest\")\n",
    "plt.xlabel(\"Tree\")\n",
    "plt.ylabel(\"F1-score\")\n",
    "print(\"A quantidade de árvores ideal é {0}, com F1 = {1}\".format(cv_random_forest.idxmax(), cv_random_forest.max()))"
   ]
  },
  {
   "cell_type": "code",
   "execution_count": 59,
   "metadata": {},
   "outputs": [],
   "source": [
    "random_forest = RandomForestClassifier(n_estimators=cv_random_forest.idxmax(), max_depth=cv_tree.idxmax(), \n",
    "                                       random_state=10)"
   ]
  },
  {
   "cell_type": "code",
   "execution_count": 60,
   "metadata": {},
   "outputs": [
    {
     "name": "stdout",
     "output_type": "stream",
     "text": [
      "Accuracy: 95.35%\n",
      "Precision: 91.51%\n",
      "Recall: 100.00%\n",
      "F-measure: 95.57%\n",
      "ROC AUC: 99.67%\n"
     ]
    }
   ],
   "source": [
    "cross_val(random_forest, data_train, target_train['situacao'], 10)"
   ]
  },
  {
   "cell_type": "code",
   "execution_count": 61,
   "metadata": {},
   "outputs": [
    {
     "name": "stdout",
     "output_type": "stream",
     "text": [
      "Accuracy: 93.64%\n",
      "Precision: 89.26%\n",
      "Recall: 98.78%\n",
      "F-measure: 93.90%\n",
      "ROC AUC: 98.28%\n"
     ]
    }
   ],
   "source": [
    "cross_val(random_forest, data_test, target_test['situacao'], 10)"
   ]
  },
  {
   "cell_type": "code",
   "execution_count": null,
   "metadata": {},
   "outputs": [],
   "source": [
    "submission = pd.read_csv(\"./sample_submission.csv\")\n",
    "m = AdaBoostClassifier(DecisionTreeClassifier(max_depth=cv_tree.idxmax()), \n",
    "                                    algorithm=\"SAMME\", \n",
    "                                    n_estimators=cv_ada.idxmax())\n",
    "m.fit(data_train, target_train)\n",
    "predicts_submission = pd.DataFrame(m.predict(predict))\n",
    "predicts_submission = predicts_submission.replace([0, 1],['nao_eleito', 'eleito'])\n",
    "submission[\"Predicted\"] = predicts_submission\n",
    "submission.to_csv(\"./my_sample_submission.csv\", index = false)"
   ]
  },
  {
   "cell_type": "code",
   "execution_count": null,
   "metadata": {},
   "outputs": [],
   "source": []
  }
 ],
 "metadata": {
  "kernelspec": {
   "display_name": "Python 2",
   "language": "python",
   "name": "python2"
  },
  "language_info": {
   "codemirror_mode": {
    "name": "ipython",
    "version": 2
   },
   "file_extension": ".py",
   "mimetype": "text/x-python",
   "name": "python",
   "nbconvert_exporter": "python",
   "pygments_lexer": "ipython2",
   "version": "2.7.15"
  }
 },
 "nbformat": 4,
 "nbformat_minor": 2
}
